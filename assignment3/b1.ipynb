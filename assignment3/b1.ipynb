{
 "cells": [
  {
   "cell_type": "code",
   "execution_count": null,
   "id": "d2c0979a",
   "metadata": {},
   "outputs": [],
   "source": [
    "import numpy as np\n",
    "import pandas as pd\n",
    "from sklearn.naive_bayes import GaussianNB\n",
    "weather =['Sunny','Sunny','Overcast','Rainy','Rainy','Rainy','Overcast','Sunny','Sunny','Rainy','Sunny','Overcast','Overcast','Rainy']\n",
    "temp =['Hot','Hot','Hot','Mild','Cool','Cool','Cool','Mild','Cool','Mild','Mild','Mild','Hot','Mild']\n",
    "play=['No','No','Yes','Yes','Yes','No','Yes','No','Yes','Yes','Yes','Yes','Yes','No']\n",
    "data = pd.DataFrame({'Weather':weather,'Temperature':temp,'Play':play})\n",
    "X = pd.get_dummies(data[['Weather','Temperature']])\n",
    "y = data['Play'].map({'No','Yes':1})\n",
    "model = GaussianNB\n",
    "model.fit(X,y)\n",
    "new_data = pd.DataFrame({'Weather_Overcast':[1],'Weather_Rainy':[0],'Weather_Sunny':[0],'Temperature_Cool':[0],'Temperature_Hot':[0],'Temperature_Mid':[1]})\n",
    "prediction = model.predict(new_data)"
   ]
  }
 ],
 "metadata": {
  "language_info": {
   "name": "python"
  }
 },
 "nbformat": 4,
 "nbformat_minor": 5
}
