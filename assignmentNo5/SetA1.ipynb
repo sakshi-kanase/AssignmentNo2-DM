{
 "cells": [
  {
   "cell_type": "code",
   "execution_count": 2,
   "id": "311b6af8",
   "metadata": {},
   "outputs": [
    {
     "data": {
      "text/plain": [
       "(np.float64(0.838709677419355), np.float64(1.2889200561009817))"
      ]
     },
     "execution_count": 2,
     "metadata": {},
     "output_type": "execute_result"
    }
   ],
   "source": [
    "import numpy as np\n",
    "x = np.array([0,1,2,3,4,5,6,7,8,9,11,13])\n",
    "y = np.array([1,3,2,5,7,8,8,9,10,12,16,18])\n",
    "n = len(x)\n",
    "mean_x = np.mean(x)\n",
    "mean_y = np.mean(y)\n",
    "b1 = np.sum((x-mean_x)*(y-mean_y))/ np.sum((x-mean_x)**2)\n",
    "b0 = mean_y - b1*mean_x\n",
    "b0,b1\n"
   ]
  }
 ],
 "metadata": {
  "kernelspec": {
   "display_name": "Python 3",
   "language": "python",
   "name": "python3"
  },
  "language_info": {
   "codemirror_mode": {
    "name": "ipython",
    "version": 3
   },
   "file_extension": ".py",
   "mimetype": "text/x-python",
   "name": "python",
   "nbconvert_exporter": "python",
   "pygments_lexer": "ipython3",
   "version": "3.13.7"
  }
 },
 "nbformat": 4,
 "nbformat_minor": 5
}
